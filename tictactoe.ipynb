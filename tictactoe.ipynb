{
  "nbformat": 4,
  "nbformat_minor": 0,
  "metadata": {
    "colab": {
      "provenance": [],
      "authorship_tag": "ABX9TyMIsnq6XufI2klc1WvUjA/e",
      "include_colab_link": true
    },
    "kernelspec": {
      "name": "python3",
      "display_name": "Python 3"
    },
    "language_info": {
      "name": "python"
    }
  },
  "cells": [
    {
      "cell_type": "markdown",
      "metadata": {
        "id": "view-in-github",
        "colab_type": "text"
      },
      "source": [
        "<a href=\"https://colab.research.google.com/github/Abdullahkhalid37/Ai/blob/main/tictactoe.ipynb\" target=\"_parent\"><img src=\"https://colab.research.google.com/assets/colab-badge.svg\" alt=\"Open In Colab\"/></a>"
      ]
    },
    {
      "cell_type": "markdown",
      "source": [
        "tictactoe"
      ],
      "metadata": {
        "id": "SHEe9TdC90ZG"
      }
    },
    {
      "cell_type": "code",
      "source": [
        "theBoard = {'1':'','2':'','3':'','4':'','5':'','6':'','7':'','8':'','9':''}\n",
        "board_keys = []\n",
        "\n",
        "for key in theBoard:\n",
        "    board_keys.append(key)\n",
        "\n",
        "def printBoard(board):\n",
        "    print(board['1']+\"|\"+board['2']+\"|\"+board['3'])\n",
        "    print('-+-+-')\n",
        "    print(board['4']+\"|\"+board['5']+\"|\"+board['6'])\n",
        "    print('-+-+-')\n",
        "    print(board['7']+\"|\"+board['8']+\"|\"+board['9'])\n",
        "\n",
        "def game():\n",
        "    turn='X'\n",
        "    count=0\n",
        "    for i in range(10):\n",
        "        printBoard(theBoard)\n",
        "        print(\"It's your turn,\"+ turn +\".Move to which place?\")\n",
        "        move=input()\n",
        "        if theBoard[move]=='':\n",
        "            theBoard[move]=turn\n",
        "            count += 1\n",
        "        else:\n",
        "            print(\"That place is already filled.\\nMove to which place?\")\n",
        "            continue\n",
        "        if count>=5:\n",
        "            if theBoard['7']== theBoard['8']== theBoard['9']!='':\n",
        "                printBoard(theBoard)\n",
        "                print(\"\\nGame Over.\\n\")\n",
        "                print(\"*\"+turn + \"won. ***\")\n",
        "                break \n",
        "            elif theBoard['4']== theBoard['5']==theBoard['6']!='':\n",
        "                printBoard(theBoard)\n",
        "                print(\"\\nGame Over.\\n\")\n",
        "                print(\"*\"+turn + \"won. ***\")\n",
        "                break\n",
        "            elif theBoard['1']== theBoard['2']==theBoard['3']!='':\n",
        "                printBoard(theBoard)\n",
        "                print(\"\\nGame Over.\\n\")\n",
        "                print(\"*\"+turn + \"won. ***\") \n",
        "                break\n",
        "            elif theBoard['1']== theBoard['4']==theBoard['7']!='':\n",
        "                printBoard(theBoard)\n",
        "                print(\"\\nGame Over.\\n\")\n",
        "                print(\"*\"+turn + \"won. ***\")\n",
        "                break\n",
        "            elif theBoard['2']== theBoard['5']==theBoard['8']!='':\n",
        "                printBoard(theBoard)\n",
        "                print(\"\\nGame Over.\\n\")\n",
        "                print(\"*\"+turn + \"won. **\")\n",
        "                break \n",
        "            elif theBoard['3']==theBoard['6']==theBoard['9']!='':\n",
        "                printBoard(theBoard)\n",
        "                print(\"\\nGame Over.\\n\")\n",
        "                print(\"*\"+turn + \"won. **\")\n",
        "            elif theBoard['7']==theBoard['5']==theBoard['3']!='':\n",
        "                printBoard(theBoard)\n",
        "                print(\"\\nGame Over.\\n\")\n",
        "                print(\"*\"+turn + \"won. **\")\n",
        "                break\n",
        "            elif theBoard['1']==theBoard['5']==theBoard['9']!='':\n",
        "                printBoard(theBoard)\n",
        "                print(\"\\nGame Over.\\n\")\n",
        "                print(\"*\"+turn + \"won. **\")\n",
        "                break \n",
        "\n",
        "        if count == 9:\n",
        "            print(\"\\nGame Over.\\n\")\n",
        "            print(\"Is's a Tie!!\")\n",
        "        if turn=='X':\n",
        "            turn='O'\n",
        "        else:\n",
        "            turn='X'\n",
        "\n",
        "    restart=input(\"Do you want to play again?(y/n)\")\n",
        "    if restart ==\"y\" or restart == \"Y\":\n",
        "        for key in board_keys:\n",
        "            theBoard[key]=\"\"\n",
        "        game()\n",
        "if __name__==\"__main__\":\n",
        "    game()"
      ],
      "metadata": {
        "colab": {
          "base_uri": "https://localhost:8080/"
        },
        "id": "1yVEyKLC99ry",
        "outputId": "317422d8-867c-43ab-8a7e-f3b0a3da5ebb"
      },
      "execution_count": null,
      "outputs": [
        {
          "output_type": "stream",
          "name": "stdout",
          "text": [
            "||\n",
            "-+-+-\n",
            "||\n",
            "-+-+-\n",
            "||\n",
            "It's your turn,X.Move to which place?\n",
            "1\n",
            "X||\n",
            "-+-+-\n",
            "||\n",
            "-+-+-\n",
            "||\n",
            "It's your turn,O.Move to which place?\n",
            "2\n",
            "X|O|\n",
            "-+-+-\n",
            "||\n",
            "-+-+-\n",
            "||\n",
            "It's your turn,X.Move to which place?\n",
            "5\n",
            "X|O|\n",
            "-+-+-\n",
            "|X|\n",
            "-+-+-\n",
            "||\n",
            "It's your turn,O.Move to which place?\n",
            "3\n",
            "X|O|O\n",
            "-+-+-\n",
            "|X|\n",
            "-+-+-\n",
            "||\n",
            "It's your turn,X.Move to which place?\n",
            "9\n",
            "X|O|O\n",
            "-+-+-\n",
            "|X|\n",
            "-+-+-\n",
            "||X\n",
            "\n",
            "Game Over.\n",
            "\n",
            "*Xwon. **\n"
          ]
        }
      ]
    }
  ]
}